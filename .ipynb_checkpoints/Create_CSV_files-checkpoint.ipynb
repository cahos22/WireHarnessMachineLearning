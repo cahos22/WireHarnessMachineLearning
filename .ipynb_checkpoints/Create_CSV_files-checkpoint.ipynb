{
 "cells": [
  {
   "cell_type": "code",
   "execution_count": 40,
   "metadata": {},
   "outputs": [],
   "source": [
    "import pandas as pd\n",
    "import numpy as np\n",
    "import os"
   ]
  },
  {
   "cell_type": "code",
   "execution_count": 41,
   "metadata": {},
   "outputs": [
    {
     "name": "stdout",
     "output_type": "stream",
     "text": [
      "Resources\\Data\n"
     ]
    }
   ],
   "source": [
    "files_path = os.path.join(\"Resources\", \"Data\")\n",
    "print(files_path)"
   ]
  },
  {
   "cell_type": "code",
   "execution_count": 42,
   "metadata": {},
   "outputs": [],
   "source": [
    "def get_csv_files(path):  \n",
    "    for file in os.listdir(path):\n",
    "        if os.path.isfile(os.path.join(path, file)) and file.endswith(\".csv\"):\n",
    "            yield file"
   ]
  },
  {
   "cell_type": "code",
   "execution_count": 43,
   "metadata": {},
   "outputs": [],
   "source": [
    "for file in get_csv_files(files_path):  \n",
    "    file_path = os.path.join(files_path, file)\n",
    "    #print(file_path)\n",
    "    sample_data = pd.read_csv(file_path)\n",
    "    sample_data.head()\n",
    "    sample_data[['Message','description']] = sample_data['Message'].str.split(':',n =1, expand=True)\n",
    "    sample_data.head()\n",
    "    imp_col = sample_data[[\"Code\",\"Parameter_from\", \"description\", \"Message\"]].reset_index()\n",
    "    type(imp_col)\n",
    "    imp_col.head()\n",
    "    imp_col_filtered = imp_col.loc[imp_col[\"Message\"].str.contains(\"Error\", regex=False)]\n",
    "    imp_col_filtered.head()\n",
    "    final_df = imp_col_filtered.loc[imp_col_filtered[\"Parameter_from\"] == 1.0]\n",
    "    final_df.head()\n",
    "    final_df_grouped = final_df.groupby( [ \"Code\", \"description\"] ).count()\n",
    "    final_sort_df = final_df_grouped.sort_values(by='Message', ascending=False)\n",
    "    machine1_final_df = final_sort_df.drop(columns=['index', 'Parameter_from'])\n",
    "    machine1_final_df.head()\n",
    "    output_filename = file.split('.')[0] + \"output.csv\"\n",
    "    output_path = os.path.join(files_path, \"Output\",  output_filename)\n",
    "   # print(output_path)\n",
    "    machine1_final_df.to_csv(output_path, encoding='utf-8')"
   ]
  },
  {
   "cell_type": "code",
   "execution_count": null,
   "metadata": {},
   "outputs": [],
   "source": []
  }
 ],
 "metadata": {
  "kernelspec": {
   "display_name": "Python 3",
   "language": "python",
   "name": "python3"
  },
  "language_info": {
   "codemirror_mode": {
    "name": "ipython",
    "version": 3
   },
   "file_extension": ".py",
   "mimetype": "text/x-python",
   "name": "python",
   "nbconvert_exporter": "python",
   "pygments_lexer": "ipython3",
   "version": "3.6.5"
  }
 },
 "nbformat": 4,
 "nbformat_minor": 2
}
