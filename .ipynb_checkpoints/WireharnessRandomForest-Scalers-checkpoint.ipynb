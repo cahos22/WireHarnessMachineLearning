{
 "cells": [
  {
   "cell_type": "code",
   "execution_count": 175,
   "metadata": {},
   "outputs": [],
   "source": [
    "%matplotlib inline\n",
    "import matplotlib.pyplot as plt\n",
    "import numpy as np\n",
    "import pandas as pd\n",
    "import os"
   ]
  },
  {
   "cell_type": "markdown",
   "metadata": {},
   "source": [
    "## Dataset:  final_concentrated.csv\n",
    "\n",
    "Source: WireHarness Machine Data\n",
    "Test Scores with Number of errors per hour on different machines\n",
    "\n",
    "\n",
    "Variables/Columns\n",
    "Date: Day of work\n",
    "Time: Number of hours and minutes the machine was working\n",
    "Minutes: Number of minutes worked\n",
    "Hours: Decimal value described the time worked by the machine in hours\n",
    "Total_error: Total Number of error occurrances\n",
    "Machine: Name of the machine"
   ]
  },
  {
   "cell_type": "code",
   "execution_count": 176,
   "metadata": {},
   "outputs": [
    {
     "data": {
      "text/html": [
       "<div>\n",
       "<style scoped>\n",
       "    .dataframe tbody tr th:only-of-type {\n",
       "        vertical-align: middle;\n",
       "    }\n",
       "\n",
       "    .dataframe tbody tr th {\n",
       "        vertical-align: top;\n",
       "    }\n",
       "\n",
       "    .dataframe thead th {\n",
       "        text-align: right;\n",
       "    }\n",
       "</style>\n",
       "<table border=\"1\" class=\"dataframe\">\n",
       "  <thead>\n",
       "    <tr style=\"text-align: right;\">\n",
       "      <th></th>\n",
       "      <th>Date</th>\n",
       "      <th>Time</th>\n",
       "      <th>Minutes</th>\n",
       "      <th>Hours</th>\n",
       "      <th>Total_error</th>\n",
       "      <th>Machine</th>\n",
       "    </tr>\n",
       "  </thead>\n",
       "  <tbody>\n",
       "    <tr>\n",
       "      <th>0</th>\n",
       "      <td>1/3/18</td>\n",
       "      <td>4:40:00</td>\n",
       "      <td>280.00</td>\n",
       "      <td>5</td>\n",
       "      <td>270</td>\n",
       "      <td>Forty-six</td>\n",
       "    </tr>\n",
       "    <tr>\n",
       "      <th>1</th>\n",
       "      <td>2/3/18</td>\n",
       "      <td>4:42:00</td>\n",
       "      <td>282.00</td>\n",
       "      <td>5</td>\n",
       "      <td>187</td>\n",
       "      <td>Forty-six</td>\n",
       "    </tr>\n",
       "    <tr>\n",
       "      <th>2</th>\n",
       "      <td>3/3/18</td>\n",
       "      <td>6:10:00</td>\n",
       "      <td>370.00</td>\n",
       "      <td>6</td>\n",
       "      <td>182</td>\n",
       "      <td>Forty-six</td>\n",
       "    </tr>\n",
       "    <tr>\n",
       "      <th>4</th>\n",
       "      <td>5/3/18</td>\n",
       "      <td>4:45:00</td>\n",
       "      <td>285.00</td>\n",
       "      <td>5</td>\n",
       "      <td>237</td>\n",
       "      <td>Forty-six</td>\n",
       "    </tr>\n",
       "    <tr>\n",
       "      <th>5</th>\n",
       "      <td>6/3/18</td>\n",
       "      <td>6:50</td>\n",
       "      <td>410.00</td>\n",
       "      <td>7</td>\n",
       "      <td>111</td>\n",
       "      <td>Forty-six</td>\n",
       "    </tr>\n",
       "    <tr>\n",
       "      <th>6</th>\n",
       "      <td>7/3/18</td>\n",
       "      <td>6:59:00</td>\n",
       "      <td>419.00</td>\n",
       "      <td>7</td>\n",
       "      <td>127</td>\n",
       "      <td>Forty-six</td>\n",
       "    </tr>\n",
       "    <tr>\n",
       "      <th>7</th>\n",
       "      <td>8/3/18</td>\n",
       "      <td>9:11</td>\n",
       "      <td>551.00</td>\n",
       "      <td>9</td>\n",
       "      <td>166</td>\n",
       "      <td>Forty-six</td>\n",
       "    </tr>\n",
       "    <tr>\n",
       "      <th>8</th>\n",
       "      <td>9/3/18</td>\n",
       "      <td>7:47</td>\n",
       "      <td>467.00</td>\n",
       "      <td>8</td>\n",
       "      <td>185</td>\n",
       "      <td>Forty-six</td>\n",
       "    </tr>\n",
       "    <tr>\n",
       "      <th>9</th>\n",
       "      <td>10/3/18</td>\n",
       "      <td>7:04:00</td>\n",
       "      <td>424.00</td>\n",
       "      <td>7</td>\n",
       "      <td>153</td>\n",
       "      <td>Forty-six</td>\n",
       "    </tr>\n",
       "    <tr>\n",
       "      <th>10</th>\n",
       "      <td>11/3/18</td>\n",
       "      <td>3:22:00</td>\n",
       "      <td>202.00</td>\n",
       "      <td>3</td>\n",
       "      <td>90</td>\n",
       "      <td>Forty-six</td>\n",
       "    </tr>\n",
       "    <tr>\n",
       "      <th>11</th>\n",
       "      <td>12/3/18</td>\n",
       "      <td>6:29:00</td>\n",
       "      <td>389.00</td>\n",
       "      <td>6</td>\n",
       "      <td>205</td>\n",
       "      <td>Forty-six</td>\n",
       "    </tr>\n",
       "    <tr>\n",
       "      <th>12</th>\n",
       "      <td>13/3/18</td>\n",
       "      <td>4:32:00</td>\n",
       "      <td>272.00</td>\n",
       "      <td>5</td>\n",
       "      <td>139</td>\n",
       "      <td>Forty-six</td>\n",
       "    </tr>\n",
       "    <tr>\n",
       "      <th>13</th>\n",
       "      <td>15/3/18</td>\n",
       "      <td>5:33:00</td>\n",
       "      <td>333.00</td>\n",
       "      <td>6</td>\n",
       "      <td>224</td>\n",
       "      <td>Forty-six</td>\n",
       "    </tr>\n",
       "    <tr>\n",
       "      <th>14</th>\n",
       "      <td>16/3/18</td>\n",
       "      <td>10:59:00</td>\n",
       "      <td>659.00</td>\n",
       "      <td>11</td>\n",
       "      <td>224</td>\n",
       "      <td>Forty-six</td>\n",
       "    </tr>\n",
       "    <tr>\n",
       "      <th>15</th>\n",
       "      <td>17/3/18</td>\n",
       "      <td>7:30:00</td>\n",
       "      <td>450.00</td>\n",
       "      <td>8</td>\n",
       "      <td>177</td>\n",
       "      <td>Forty-six</td>\n",
       "    </tr>\n",
       "    <tr>\n",
       "      <th>16</th>\n",
       "      <td>18/3/18</td>\n",
       "      <td>2:29:00</td>\n",
       "      <td>149.00</td>\n",
       "      <td>2</td>\n",
       "      <td>40</td>\n",
       "      <td>Forty-six</td>\n",
       "    </tr>\n",
       "    <tr>\n",
       "      <th>17</th>\n",
       "      <td>19/3/18</td>\n",
       "      <td>6:42:00</td>\n",
       "      <td>402.00</td>\n",
       "      <td>7</td>\n",
       "      <td>250</td>\n",
       "      <td>Forty-six</td>\n",
       "    </tr>\n",
       "    <tr>\n",
       "      <th>18</th>\n",
       "      <td>20/3/18</td>\n",
       "      <td>3:54:00</td>\n",
       "      <td>234.00</td>\n",
       "      <td>4</td>\n",
       "      <td>261</td>\n",
       "      <td>Forty-six</td>\n",
       "    </tr>\n",
       "    <tr>\n",
       "      <th>19</th>\n",
       "      <td>21/3/18</td>\n",
       "      <td>12:04:00</td>\n",
       "      <td>724.00</td>\n",
       "      <td>12</td>\n",
       "      <td>219</td>\n",
       "      <td>Forty-six</td>\n",
       "    </tr>\n",
       "    <tr>\n",
       "      <th>20</th>\n",
       "      <td>22/3/18</td>\n",
       "      <td>6:09:00</td>\n",
       "      <td>369.00</td>\n",
       "      <td>6</td>\n",
       "      <td>277</td>\n",
       "      <td>Forty-six</td>\n",
       "    </tr>\n",
       "    <tr>\n",
       "      <th>21</th>\n",
       "      <td>24/3/18</td>\n",
       "      <td>23:59:59</td>\n",
       "      <td>1439.98</td>\n",
       "      <td>24</td>\n",
       "      <td>184</td>\n",
       "      <td>Forty-six</td>\n",
       "    </tr>\n",
       "    <tr>\n",
       "      <th>22</th>\n",
       "      <td>25/3/18</td>\n",
       "      <td>0:38:00</td>\n",
       "      <td>38.00</td>\n",
       "      <td>1</td>\n",
       "      <td>175</td>\n",
       "      <td>Forty-six</td>\n",
       "    </tr>\n",
       "    <tr>\n",
       "      <th>23</th>\n",
       "      <td>26/3/18</td>\n",
       "      <td>6:19</td>\n",
       "      <td>379.00</td>\n",
       "      <td>6</td>\n",
       "      <td>200</td>\n",
       "      <td>Forty-six</td>\n",
       "    </tr>\n",
       "    <tr>\n",
       "      <th>24</th>\n",
       "      <td>27/3/18</td>\n",
       "      <td>10:51:00</td>\n",
       "      <td>651.00</td>\n",
       "      <td>11</td>\n",
       "      <td>267</td>\n",
       "      <td>Forty-six</td>\n",
       "    </tr>\n",
       "    <tr>\n",
       "      <th>25</th>\n",
       "      <td>28/3/18</td>\n",
       "      <td>7:13</td>\n",
       "      <td>433.00</td>\n",
       "      <td>7</td>\n",
       "      <td>221</td>\n",
       "      <td>Forty-six</td>\n",
       "    </tr>\n",
       "    <tr>\n",
       "      <th>26</th>\n",
       "      <td>29/3/18</td>\n",
       "      <td>6:18</td>\n",
       "      <td>378.00</td>\n",
       "      <td>6</td>\n",
       "      <td>207</td>\n",
       "      <td>Forty-six</td>\n",
       "    </tr>\n",
       "    <tr>\n",
       "      <th>27</th>\n",
       "      <td>30/3/18</td>\n",
       "      <td>5:19</td>\n",
       "      <td>319.00</td>\n",
       "      <td>5</td>\n",
       "      <td>95</td>\n",
       "      <td>Forty-six</td>\n",
       "    </tr>\n",
       "    <tr>\n",
       "      <th>28</th>\n",
       "      <td>1/3/18</td>\n",
       "      <td>11:27:00</td>\n",
       "      <td>687.00</td>\n",
       "      <td>11</td>\n",
       "      <td>193</td>\n",
       "      <td>Forty-seven</td>\n",
       "    </tr>\n",
       "    <tr>\n",
       "      <th>29</th>\n",
       "      <td>2/3/18</td>\n",
       "      <td>11:20:00</td>\n",
       "      <td>680.00</td>\n",
       "      <td>11</td>\n",
       "      <td>173</td>\n",
       "      <td>Forty-seven</td>\n",
       "    </tr>\n",
       "    <tr>\n",
       "      <th>31</th>\n",
       "      <td>4/3/18</td>\n",
       "      <td>0:38:00</td>\n",
       "      <td>38.00</td>\n",
       "      <td>1</td>\n",
       "      <td>35</td>\n",
       "      <td>Forty-seven</td>\n",
       "    </tr>\n",
       "    <tr>\n",
       "      <th>...</th>\n",
       "      <td>...</td>\n",
       "      <td>...</td>\n",
       "      <td>...</td>\n",
       "      <td>...</td>\n",
       "      <td>...</td>\n",
       "      <td>...</td>\n",
       "    </tr>\n",
       "    <tr>\n",
       "      <th>259</th>\n",
       "      <td>25/4/18</td>\n",
       "      <td>8:43:03</td>\n",
       "      <td>523.05</td>\n",
       "      <td>9</td>\n",
       "      <td>137</td>\n",
       "      <td>Fifty</td>\n",
       "    </tr>\n",
       "    <tr>\n",
       "      <th>260</th>\n",
       "      <td>26/4/18</td>\n",
       "      <td>6:46:58</td>\n",
       "      <td>406.97</td>\n",
       "      <td>7</td>\n",
       "      <td>147</td>\n",
       "      <td>Fifty</td>\n",
       "    </tr>\n",
       "    <tr>\n",
       "      <th>261</th>\n",
       "      <td>27/4/18</td>\n",
       "      <td>15:06:58</td>\n",
       "      <td>906.97</td>\n",
       "      <td>15</td>\n",
       "      <td>97</td>\n",
       "      <td>Fifty</td>\n",
       "    </tr>\n",
       "    <tr>\n",
       "      <th>262</th>\n",
       "      <td>28/4/18</td>\n",
       "      <td>16:56:44</td>\n",
       "      <td>1016.73</td>\n",
       "      <td>17</td>\n",
       "      <td>134</td>\n",
       "      <td>Fifty</td>\n",
       "    </tr>\n",
       "    <tr>\n",
       "      <th>264</th>\n",
       "      <td>30/4/18</td>\n",
       "      <td>13:52:38</td>\n",
       "      <td>832.63</td>\n",
       "      <td>14</td>\n",
       "      <td>95</td>\n",
       "      <td>Fifty</td>\n",
       "    </tr>\n",
       "    <tr>\n",
       "      <th>265</th>\n",
       "      <td>1/4/18</td>\n",
       "      <td>7:31</td>\n",
       "      <td>451.00</td>\n",
       "      <td>8</td>\n",
       "      <td>117</td>\n",
       "      <td>Fifty-one</td>\n",
       "    </tr>\n",
       "    <tr>\n",
       "      <th>266</th>\n",
       "      <td>2/4/18</td>\n",
       "      <td>11:39:00</td>\n",
       "      <td>699.00</td>\n",
       "      <td>12</td>\n",
       "      <td>159</td>\n",
       "      <td>Fifty-one</td>\n",
       "    </tr>\n",
       "    <tr>\n",
       "      <th>267</th>\n",
       "      <td>3/4/18</td>\n",
       "      <td>18:59:00</td>\n",
       "      <td>1139.00</td>\n",
       "      <td>19</td>\n",
       "      <td>71</td>\n",
       "      <td>Fifty-one</td>\n",
       "    </tr>\n",
       "    <tr>\n",
       "      <th>268</th>\n",
       "      <td>4/4/18</td>\n",
       "      <td>13:52:00</td>\n",
       "      <td>832.00</td>\n",
       "      <td>14</td>\n",
       "      <td>97</td>\n",
       "      <td>Fifty-one</td>\n",
       "    </tr>\n",
       "    <tr>\n",
       "      <th>270</th>\n",
       "      <td>6/4/18</td>\n",
       "      <td>8:17:00</td>\n",
       "      <td>497.00</td>\n",
       "      <td>8</td>\n",
       "      <td>64</td>\n",
       "      <td>Fifty-one</td>\n",
       "    </tr>\n",
       "    <tr>\n",
       "      <th>271</th>\n",
       "      <td>7/4/18</td>\n",
       "      <td>18:10:00</td>\n",
       "      <td>1090.00</td>\n",
       "      <td>18</td>\n",
       "      <td>218</td>\n",
       "      <td>Fifty-one</td>\n",
       "    </tr>\n",
       "    <tr>\n",
       "      <th>272</th>\n",
       "      <td>8/4/18</td>\n",
       "      <td>2:08</td>\n",
       "      <td>128.00</td>\n",
       "      <td>2</td>\n",
       "      <td>123</td>\n",
       "      <td>Fifty-one</td>\n",
       "    </tr>\n",
       "    <tr>\n",
       "      <th>273</th>\n",
       "      <td>9/4/18</td>\n",
       "      <td>3:59:00</td>\n",
       "      <td>239.00</td>\n",
       "      <td>4</td>\n",
       "      <td>302</td>\n",
       "      <td>Fifty-one</td>\n",
       "    </tr>\n",
       "    <tr>\n",
       "      <th>274</th>\n",
       "      <td>10/4/18</td>\n",
       "      <td>4:43</td>\n",
       "      <td>283.00</td>\n",
       "      <td>5</td>\n",
       "      <td>132</td>\n",
       "      <td>Fifty-one</td>\n",
       "    </tr>\n",
       "    <tr>\n",
       "      <th>275</th>\n",
       "      <td>11/4/18</td>\n",
       "      <td>2:58</td>\n",
       "      <td>178.00</td>\n",
       "      <td>3</td>\n",
       "      <td>14</td>\n",
       "      <td>Fifty-one</td>\n",
       "    </tr>\n",
       "    <tr>\n",
       "      <th>277</th>\n",
       "      <td>13/4/18</td>\n",
       "      <td>22:19</td>\n",
       "      <td>1339.00</td>\n",
       "      <td>22</td>\n",
       "      <td>28</td>\n",
       "      <td>Fifty-one</td>\n",
       "    </tr>\n",
       "    <tr>\n",
       "      <th>278</th>\n",
       "      <td>14/4/18</td>\n",
       "      <td>6:12</td>\n",
       "      <td>372.00</td>\n",
       "      <td>6</td>\n",
       "      <td>231</td>\n",
       "      <td>Fifty-one</td>\n",
       "    </tr>\n",
       "    <tr>\n",
       "      <th>279</th>\n",
       "      <td>16/4/18</td>\n",
       "      <td>8:19</td>\n",
       "      <td>499.00</td>\n",
       "      <td>8</td>\n",
       "      <td>67</td>\n",
       "      <td>Fifty-one</td>\n",
       "    </tr>\n",
       "    <tr>\n",
       "      <th>280</th>\n",
       "      <td>17/4/18</td>\n",
       "      <td>3:10:00</td>\n",
       "      <td>190.00</td>\n",
       "      <td>3</td>\n",
       "      <td>26</td>\n",
       "      <td>Fifty-one</td>\n",
       "    </tr>\n",
       "    <tr>\n",
       "      <th>281</th>\n",
       "      <td>18/4/18</td>\n",
       "      <td>4:23</td>\n",
       "      <td>263.00</td>\n",
       "      <td>4</td>\n",
       "      <td>47</td>\n",
       "      <td>Fifty-one</td>\n",
       "    </tr>\n",
       "    <tr>\n",
       "      <th>282</th>\n",
       "      <td>19/4/18</td>\n",
       "      <td>10:39:00</td>\n",
       "      <td>639.00</td>\n",
       "      <td>11</td>\n",
       "      <td>90</td>\n",
       "      <td>Fifty-one</td>\n",
       "    </tr>\n",
       "    <tr>\n",
       "      <th>283</th>\n",
       "      <td>20/4/18</td>\n",
       "      <td>0:40</td>\n",
       "      <td>40.00</td>\n",
       "      <td>1</td>\n",
       "      <td>62</td>\n",
       "      <td>Fifty-one</td>\n",
       "    </tr>\n",
       "    <tr>\n",
       "      <th>284</th>\n",
       "      <td>21/4/18</td>\n",
       "      <td>10:50:00</td>\n",
       "      <td>650.00</td>\n",
       "      <td>11</td>\n",
       "      <td>54</td>\n",
       "      <td>Fifty-one</td>\n",
       "    </tr>\n",
       "    <tr>\n",
       "      <th>286</th>\n",
       "      <td>23/4/18</td>\n",
       "      <td>8:38:00</td>\n",
       "      <td>518.00</td>\n",
       "      <td>9</td>\n",
       "      <td>134</td>\n",
       "      <td>Fifty-one</td>\n",
       "    </tr>\n",
       "    <tr>\n",
       "      <th>287</th>\n",
       "      <td>24/4/18</td>\n",
       "      <td>5:39:00</td>\n",
       "      <td>339.00</td>\n",
       "      <td>6</td>\n",
       "      <td>27</td>\n",
       "      <td>Fifty-one</td>\n",
       "    </tr>\n",
       "    <tr>\n",
       "      <th>288</th>\n",
       "      <td>26/4/18</td>\n",
       "      <td>13:20:00</td>\n",
       "      <td>800.00</td>\n",
       "      <td>13</td>\n",
       "      <td>41</td>\n",
       "      <td>Fifty-one</td>\n",
       "    </tr>\n",
       "    <tr>\n",
       "      <th>289</th>\n",
       "      <td>27/4/18</td>\n",
       "      <td>6:48:00</td>\n",
       "      <td>408.00</td>\n",
       "      <td>7</td>\n",
       "      <td>177</td>\n",
       "      <td>Fifty-one</td>\n",
       "    </tr>\n",
       "    <tr>\n",
       "      <th>290</th>\n",
       "      <td>28/4/18</td>\n",
       "      <td>15:58:00</td>\n",
       "      <td>958.00</td>\n",
       "      <td>16</td>\n",
       "      <td>138</td>\n",
       "      <td>Fifty-one</td>\n",
       "    </tr>\n",
       "    <tr>\n",
       "      <th>291</th>\n",
       "      <td>29/4/18</td>\n",
       "      <td>4:18</td>\n",
       "      <td>258.00</td>\n",
       "      <td>4</td>\n",
       "      <td>85</td>\n",
       "      <td>Fifty-one</td>\n",
       "    </tr>\n",
       "    <tr>\n",
       "      <th>292</th>\n",
       "      <td>30/4/18</td>\n",
       "      <td>6:59:00</td>\n",
       "      <td>419.00</td>\n",
       "      <td>7</td>\n",
       "      <td>139</td>\n",
       "      <td>Fifty-one</td>\n",
       "    </tr>\n",
       "  </tbody>\n",
       "</table>\n",
       "<p>283 rows × 6 columns</p>\n",
       "</div>"
      ],
      "text/plain": [
       "        Date      Time  Minutes  Hours  Total_error      Machine\n",
       "0     1/3/18   4:40:00   280.00      5          270    Forty-six\n",
       "1     2/3/18   4:42:00   282.00      5          187    Forty-six\n",
       "2     3/3/18   6:10:00   370.00      6          182    Forty-six\n",
       "4     5/3/18   4:45:00   285.00      5          237    Forty-six\n",
       "5     6/3/18      6:50   410.00      7          111    Forty-six\n",
       "6     7/3/18   6:59:00   419.00      7          127    Forty-six\n",
       "7     8/3/18      9:11   551.00      9          166    Forty-six\n",
       "8     9/3/18      7:47   467.00      8          185    Forty-six\n",
       "9    10/3/18   7:04:00   424.00      7          153    Forty-six\n",
       "10   11/3/18   3:22:00   202.00      3           90    Forty-six\n",
       "11   12/3/18   6:29:00   389.00      6          205    Forty-six\n",
       "12   13/3/18   4:32:00   272.00      5          139    Forty-six\n",
       "13   15/3/18   5:33:00   333.00      6          224    Forty-six\n",
       "14   16/3/18  10:59:00   659.00     11          224    Forty-six\n",
       "15   17/3/18   7:30:00   450.00      8          177    Forty-six\n",
       "16   18/3/18   2:29:00   149.00      2           40    Forty-six\n",
       "17   19/3/18   6:42:00   402.00      7          250    Forty-six\n",
       "18   20/3/18   3:54:00   234.00      4          261    Forty-six\n",
       "19   21/3/18  12:04:00   724.00     12          219    Forty-six\n",
       "20   22/3/18   6:09:00   369.00      6          277    Forty-six\n",
       "21   24/3/18  23:59:59  1439.98     24          184    Forty-six\n",
       "22   25/3/18   0:38:00    38.00      1          175    Forty-six\n",
       "23   26/3/18      6:19   379.00      6          200    Forty-six\n",
       "24   27/3/18  10:51:00   651.00     11          267    Forty-six\n",
       "25   28/3/18      7:13   433.00      7          221    Forty-six\n",
       "26   29/3/18      6:18   378.00      6          207    Forty-six\n",
       "27   30/3/18      5:19   319.00      5           95    Forty-six\n",
       "28    1/3/18  11:27:00   687.00     11          193  Forty-seven\n",
       "29    2/3/18  11:20:00   680.00     11          173  Forty-seven\n",
       "31    4/3/18   0:38:00    38.00      1           35  Forty-seven\n",
       "..       ...       ...      ...    ...          ...          ...\n",
       "259  25/4/18   8:43:03   523.05      9          137        Fifty\n",
       "260  26/4/18   6:46:58   406.97      7          147        Fifty\n",
       "261  27/4/18  15:06:58   906.97     15           97        Fifty\n",
       "262  28/4/18  16:56:44  1016.73     17          134        Fifty\n",
       "264  30/4/18  13:52:38   832.63     14           95        Fifty\n",
       "265   1/4/18      7:31   451.00      8          117    Fifty-one\n",
       "266   2/4/18  11:39:00   699.00     12          159    Fifty-one\n",
       "267   3/4/18  18:59:00  1139.00     19           71    Fifty-one\n",
       "268   4/4/18  13:52:00   832.00     14           97    Fifty-one\n",
       "270   6/4/18   8:17:00   497.00      8           64    Fifty-one\n",
       "271   7/4/18  18:10:00  1090.00     18          218    Fifty-one\n",
       "272   8/4/18      2:08   128.00      2          123    Fifty-one\n",
       "273   9/4/18   3:59:00   239.00      4          302    Fifty-one\n",
       "274  10/4/18      4:43   283.00      5          132    Fifty-one\n",
       "275  11/4/18      2:58   178.00      3           14    Fifty-one\n",
       "277  13/4/18     22:19  1339.00     22           28    Fifty-one\n",
       "278  14/4/18      6:12   372.00      6          231    Fifty-one\n",
       "279  16/4/18      8:19   499.00      8           67    Fifty-one\n",
       "280  17/4/18   3:10:00   190.00      3           26    Fifty-one\n",
       "281  18/4/18      4:23   263.00      4           47    Fifty-one\n",
       "282  19/4/18  10:39:00   639.00     11           90    Fifty-one\n",
       "283  20/4/18      0:40    40.00      1           62    Fifty-one\n",
       "284  21/4/18  10:50:00   650.00     11           54    Fifty-one\n",
       "286  23/4/18   8:38:00   518.00      9          134    Fifty-one\n",
       "287  24/4/18   5:39:00   339.00      6           27    Fifty-one\n",
       "288  26/4/18  13:20:00   800.00     13           41    Fifty-one\n",
       "289  27/4/18   6:48:00   408.00      7          177    Fifty-one\n",
       "290  28/4/18  15:58:00   958.00     16          138    Fifty-one\n",
       "291  29/4/18      4:18   258.00      4           85    Fifty-one\n",
       "292  30/4/18   6:59:00   419.00      7          139    Fifty-one\n",
       "\n",
       "[283 rows x 6 columns]"
      ]
     },
     "execution_count": 176,
     "metadata": {},
     "output_type": "execute_result"
    }
   ],
   "source": [
    "# Read the csv file into a pandas DataFrame\n",
    "file_path = os.path.join('Resources','final_concentrated_1.csv')\n",
    "machine_errors_df = pd.read_csv(file_path)\n",
    " # final_df = imp_col_filtered.loc[imp_col_filtered[\"Parameter_from\"] == 1.0]\n",
    "machine_errors_df = machine_errors_df[(machine_errors_df['Total_error'] > 0)&(machine_errors_df['Total_error'] < 600) & (machine_errors_df['Hours'] > 0)]\n",
    "machine_errors_df"
   ]
  },
  {
   "cell_type": "code",
   "execution_count": 177,
   "metadata": {},
   "outputs": [
    {
     "data": {
      "text/html": [
       "<div>\n",
       "<style scoped>\n",
       "    .dataframe tbody tr th:only-of-type {\n",
       "        vertical-align: middle;\n",
       "    }\n",
       "\n",
       "    .dataframe tbody tr th {\n",
       "        vertical-align: top;\n",
       "    }\n",
       "\n",
       "    .dataframe thead th {\n",
       "        text-align: right;\n",
       "    }\n",
       "</style>\n",
       "<table border=\"1\" class=\"dataframe\">\n",
       "  <thead>\n",
       "    <tr style=\"text-align: right;\">\n",
       "      <th></th>\n",
       "      <th>Fifty</th>\n",
       "      <th>Fifty-one</th>\n",
       "      <th>Forty-nine</th>\n",
       "      <th>Forty-seven</th>\n",
       "      <th>Forty-six</th>\n",
       "    </tr>\n",
       "  </thead>\n",
       "  <tbody>\n",
       "    <tr>\n",
       "      <th>0</th>\n",
       "      <td>0</td>\n",
       "      <td>0</td>\n",
       "      <td>0</td>\n",
       "      <td>0</td>\n",
       "      <td>1</td>\n",
       "    </tr>\n",
       "    <tr>\n",
       "      <th>1</th>\n",
       "      <td>0</td>\n",
       "      <td>0</td>\n",
       "      <td>0</td>\n",
       "      <td>0</td>\n",
       "      <td>1</td>\n",
       "    </tr>\n",
       "    <tr>\n",
       "      <th>2</th>\n",
       "      <td>0</td>\n",
       "      <td>0</td>\n",
       "      <td>0</td>\n",
       "      <td>0</td>\n",
       "      <td>1</td>\n",
       "    </tr>\n",
       "    <tr>\n",
       "      <th>4</th>\n",
       "      <td>0</td>\n",
       "      <td>0</td>\n",
       "      <td>0</td>\n",
       "      <td>0</td>\n",
       "      <td>1</td>\n",
       "    </tr>\n",
       "    <tr>\n",
       "      <th>5</th>\n",
       "      <td>0</td>\n",
       "      <td>0</td>\n",
       "      <td>0</td>\n",
       "      <td>0</td>\n",
       "      <td>1</td>\n",
       "    </tr>\n",
       "  </tbody>\n",
       "</table>\n",
       "</div>"
      ],
      "text/plain": [
       "   Fifty  Fifty-one  Forty-nine  Forty-seven  Forty-six\n",
       "0      0          0           0            0          1\n",
       "1      0          0           0            0          1\n",
       "2      0          0           0            0          1\n",
       "4      0          0           0            0          1\n",
       "5      0          0           0            0          1"
      ]
     },
     "execution_count": 177,
     "metadata": {},
     "output_type": "execute_result"
    }
   ],
   "source": [
    "encode_df = pd.get_dummies(machine_errors_df[\"Machine\"])\n",
    "encode_df.head(5)"
   ]
  },
  {
   "cell_type": "code",
   "execution_count": 178,
   "metadata": {},
   "outputs": [],
   "source": [
    "machine_errors_df = machine_errors_df.merge(encode_df, left_index=True, right_index=True)"
   ]
  },
  {
   "cell_type": "code",
   "execution_count": 179,
   "metadata": {
    "scrolled": false
   },
   "outputs": [],
   "source": [
    "# Assign the data to X and y\n",
    "# Note: Sklearn requires a 7 x 1 array of values\n",
    "# so we use reshape to create this\n",
    "X = machine_errors_df[\"Hours\"].values.reshape(-1, 1)\n",
    "y = machine_errors_df[\"Total_error\"].values.reshape(-1, 1)\n",
    "#X = machine_errors[\"Hours\"].values.reshape(-1, 1)\n",
    "#y = machine_errors[\"Total_error\"].values.reshape(-1, 1)"
   ]
  },
  {
   "cell_type": "code",
   "execution_count": 204,
   "metadata": {
    "nbgrader": {
     "grade": false,
     "grade_id": "cell-9042a62fdddc21ba",
     "locked": false,
     "schema_version": 1,
     "solution": true
    }
   },
   "outputs": [
    {
     "data": {
      "text/plain": [
       "<matplotlib.collections.PathCollection at 0x20e5bf05a58>"
      ]
     },
     "execution_count": 204,
     "metadata": {},
     "output_type": "execute_result"
    },
    {
     "data": {
      "image/png": "[encoded data removed]",
      "text/plain": [
       "<Figure size 432x288 with 1 Axes>"
      ]
     },
     "metadata": {},
     "output_type": "display_data"
    }
   ],
   "source": [
    "# Plot the data\n",
    "\n",
    "### BEGIN SOLUTION\n",
    "\n",
    "plt.scatter(X, y)\n",
    "\n",
    "### END SOLUTION"
   ]
  },
  {
   "cell_type": "code",
   "execution_count": 205,
   "metadata": {},
   "outputs": [],
   "source": [
    "\n",
    "# Labels are the values we want to predict\n",
    "labels = np.array(machine_errors_df['Total_error'])\n",
    "\n",
    "# Remove the labels from the features\n",
    "# axis 1 refers to the columns\n",
    "machine_df_model = machine_errors_df.drop(['Date','Time','Minutes','Total_error','Machine'], axis = 1)\n",
    "machine_df_model.head()\n",
    "\n",
    "# Saving feature names for later use\n",
    "column_list = list(machine_df_model.columns)\n",
    "\n",
    "# Convert to numpy array\n",
    "features = np.array(machine_df_model)"
   ]
  },
  {
   "cell_type": "code",
   "execution_count": 206,
   "metadata": {},
   "outputs": [],
   "source": [
    "# Using Skicit-learn to split data into training and testing sets\n",
    "from sklearn.model_selection import train_test_split\n",
    "\n",
    "# Split the data into training and testing sets\n",
    "train_features, test_features, train_labels, test_labels = train_test_split(features, labels, test_size = 0.25,\n",
    "                                                                           random_state = 42)"
   ]
  },
  {
   "cell_type": "code",
   "execution_count": null,
   "metadata": {},
   "outputs": [],
   "source": [
    "from sklearn.preprocessing import StandardScaler\n",
    "X_scaler = StandardScaler().fit(train_features)\n",
    "y_scaler = StandardScaler().fit(train_labels)\n",
    "\n",
    "X_train_scaled = X_scaler.transform(train_features)\n",
    "X_test_scaled = X_scaler.transform(test_features)\n",
    "y_train_scaled = y_scaler.transform(train_labels)\n",
    "y_test_scaled = y_scaler.transform(test_labels)"
   ]
  },
  {
   "cell_type": "code",
   "execution_count": 207,
   "metadata": {
    "nbgrader": {
     "grade": false,
     "grade_id": "cell-c28431477001b4ca",
     "locked": false,
     "schema_version": 1,
     "solution": true
    }
   },
   "outputs": [
    {
     "data": {
      "text/plain": [
       "0.2618484492191927"
      ]
     },
     "execution_count": 207,
     "metadata": {},
     "output_type": "execute_result"
    }
   ],
   "source": [
    "# Import the model we are using\n",
    "from sklearn.ensemble import RandomForestRegressor\n",
    "\n",
    "# Instantiate model \n",
    "rf = RandomForestRegressor(n_estimators = 1000, random_state = 42)\n",
    "\n",
    "# Train the model on training data\n",
    "rf.fit(train_features, train_labels);\n",
    "\n",
    "rf.score(test_features, test_labels)"
   ]
  },
  {
   "cell_type": "code",
   "execution_count": 208,
   "metadata": {},
   "outputs": [],
   "source": [
    "rf_new = RandomForestRegressor(n_estimators = 100, criterion = 'mse', max_depth = None, \n",
    "                               min_samples_split = 2, min_samples_leaf = 1)"
   ]
  },
  {
   "cell_type": "code",
   "execution_count": 209,
   "metadata": {},
   "outputs": [
    {
     "data": {
      "text/plain": [
       "array([ 58.35945476,  12.92065367,  27.28483333,  97.56170271,\n",
       "        19.20129538,  17.87804762,  33.60957399, 117.82259975,\n",
       "        11.09643929, 112.81681497,  68.89844087, 227.2087131 ,\n",
       "        20.18318503,  54.61097201,  34.67121724, 194.97455003,\n",
       "        69.26130157,  70.85041338,  91.38976092,  91.4834459 ,\n",
       "        37.61097201, 177.02544997,  17.88308333,  67.46716623,\n",
       "        83.53283377,  64.44895   ,  21.48816972,   2.82259975,\n",
       "       105.95833968,  30.25617136,  43.92065367,  57.22613968,\n",
       "        81.14958662,  90.4834459 , 124.97455003,  47.56170271,\n",
       "       201.56170271, 142.88308333,  23.32854152,  38.7912869 ,\n",
       "        15.10155913,  24.81681497,  59.32878276,  45.73281092,\n",
       "        50.48816972,  65.08995833,  42.29938949,  33.62161508,\n",
       "        29.17122449,  33.36265804,  47.64054524,  10.83590595,\n",
       "        45.17122449,  39.87021333,  68.2087131 ,  80.26878452,\n",
       "        26.81681497,  21.88308333,  17.81681497,   7.82877551,\n",
       "        42.73281092,  79.4834459 ,  45.84426982,  52.18318503,\n",
       "        50.72301264,  14.57490714, 163.09734524,  19.81681497,\n",
       "        48.85369767,  28.72441242,  88.32878276])"
      ]
     },
     "execution_count": 209,
     "metadata": {},
     "output_type": "execute_result"
    }
   ],
   "source": [
    "# Use the forest's predict method on the test data\n",
    "predictions = rf.predict(test_features)\n",
    "# Calculate the absolute errors\n",
    "errors = abs(predictions - test_labels)\n",
    "errors\n"
   ]
  },
  {
   "cell_type": "code",
   "execution_count": 210,
   "metadata": {},
   "outputs": [
    {
     "name": "stdout",
     "output_type": "stream",
     "text": [
      "Mean Absolute Error: 60.45 ocurrances of errors.\n"
     ]
    }
   ],
   "source": [
    "# Print out the mean absolute error (mae)\n",
    "print('Mean Absolute Error:', round(np.mean(errors), 2), 'ocurrances of errors.')"
   ]
  },
  {
   "cell_type": "code",
   "execution_count": 211,
   "metadata": {},
   "outputs": [
    {
     "name": "stdout",
     "output_type": "stream",
     "text": [
      "Accuracy: 56.65 %.\n"
     ]
    }
   ],
   "source": [
    "# Calculate mean absolute percentage error (MAPE)\n",
    "mape = 100 * (errors / test_labels)\n",
    "# Calculate and display accuracy\n",
    "accuracy = 100 - np.mean(mape)\n",
    "print('Accuracy:', round(accuracy, 2), '%.')\n"
   ]
  },
  {
   "cell_type": "markdown",
   "metadata": {},
   "source": [
    "# Random Search with Cross Validation"
   ]
  },
  {
   "cell_type": "code",
   "execution_count": 212,
   "metadata": {},
   "outputs": [],
   "source": [
    "from sklearn.model_selection import RandomizedSearchCV\n",
    "\n",
    "# Number of trees in random forest\n",
    "n_estimators = [int(x) for x in np.linspace(start = 100, stop = 2000, num = 10)]\n",
    "# Number of features to consider at every split\n",
    "max_features = ['auto', 'sqrt']\n",
    "# Maximum number of levels in tree\n",
    "max_depth = [int(x) for x in np.linspace(10, 100, num = 10)]\n",
    "max_depth.append(None)\n",
    "# Minimum number of samples required to split a node\n",
    "min_samples_split = [2, 5, 10]\n",
    "# Minimum number of samples required at each leaf node\n",
    "min_samples_leaf = [1, 2, 4]\n",
    "# Method of selecting samples for training each tree\n",
    "bootstrap = [True, False]\n",
    "\n",
    "# Create the random grid\n",
    "random_grid = {'n_estimators': n_estimators,\n",
    "               'max_features': max_features,\n",
    "               'max_depth': max_depth,\n",
    "               'min_samples_split': min_samples_split,\n",
    "               'min_samples_leaf': min_samples_leaf,\n",
    "               'bootstrap': bootstrap}"
   ]
  },
  {
   "cell_type": "code",
   "execution_count": 213,
   "metadata": {},
   "outputs": [
    {
     "name": "stdout",
     "output_type": "stream",
     "text": [
      "Fitting 3 folds for each of 100 candidates, totalling 300 fits\n"
     ]
    },
    {
     "name": "stderr",
     "output_type": "stream",
     "text": [
      "[Parallel(n_jobs=-1)]: Done  25 tasks      | elapsed:    7.8s\n",
      "[Parallel(n_jobs=-1)]: Done 146 tasks      | elapsed:   41.5s\n",
      "[Parallel(n_jobs=-1)]: Done 300 out of 300 | elapsed:  1.5min finished\n"
     ]
    },
    {
     "data": {
      "text/plain": [
       "RandomizedSearchCV(cv=3, error_score='raise',\n",
       "          estimator=RandomForestRegressor(bootstrap=True, criterion='mse', max_depth=None,\n",
       "           max_features='auto', max_leaf_nodes=None,\n",
       "           min_impurity_decrease=0.0, min_impurity_split=None,\n",
       "           min_samples_leaf=1, min_samples_split=2,\n",
       "           min_weight_fraction_leaf=0.0, n_estimators=10, n_jobs=1,\n",
       "           oob_score=False, random_state=42, verbose=0, warm_start=False),\n",
       "          fit_params=None, iid=True, n_iter=100, n_jobs=-1,\n",
       "          param_distributions={'n_estimators': [100, 311, 522, 733, 944, 1155, 1366, 1577, 1788, 2000], 'max_features': ['auto', 'sqrt'], 'max_depth': [10, 20, 30, 40, 50, 60, 70, 80, 90, 100, None], 'min_samples_split': [2, 5, 10], 'min_samples_leaf': [1, 2, 4], 'bootstrap': [True, False]},\n",
       "          pre_dispatch='2*n_jobs', random_state=42, refit=True,\n",
       "          return_train_score='warn', scoring='neg_mean_absolute_error',\n",
       "          verbose=2)"
      ]
     },
     "execution_count": 213,
     "metadata": {},
     "output_type": "execute_result"
    }
   ],
   "source": [
    "# Use the random grid to search for best hyperparameters\n",
    "# First create the base model to tune\n",
    "rf = RandomForestRegressor(random_state = 42)\n",
    "# Random search of parameters, using 3 fold cross validation, \n",
    "# search across 100 different combinations, and use all available cores\n",
    "rf_random = RandomizedSearchCV(estimator=rf, param_distributions=random_grid,\n",
    "                              n_iter = 100, scoring='neg_mean_absolute_error', \n",
    "                              cv = 3, verbose=2, random_state=42, n_jobs=-1)\n",
    "\n",
    "# Fit the random search model\n",
    "rf_random.fit(train_features, train_labels)"
   ]
  },
  {
   "cell_type": "code",
   "execution_count": 214,
   "metadata": {},
   "outputs": [
    {
     "data": {
      "text/plain": [
       "{'n_estimators': 1155,\n",
       " 'min_samples_split': 10,\n",
       " 'min_samples_leaf': 4,\n",
       " 'max_features': 'sqrt',\n",
       " 'max_depth': 100,\n",
       " 'bootstrap': True}"
      ]
     },
     "execution_count": 214,
     "metadata": {},
     "output_type": "execute_result"
    }
   ],
   "source": [
    "rf_random.best_params_"
   ]
  },
  {
   "cell_type": "markdown",
   "metadata": {},
   "source": [
    "# Evaluation Function"
   ]
  },
  {
   "cell_type": "code",
   "execution_count": 216,
   "metadata": {},
   "outputs": [],
   "source": [
    "def evaluate(model, test_features, test_labels):\n",
    "    predictions = model.predict(test_features)\n",
    "    errors = abs(predictions - test_labels)\n",
    "    mape = 100 * np.mean(errors / test_labels)\n",
    "    accuracy = 100 - mape\n",
    "    print('Model Performance')\n",
    "    print('Average Error: {:0.4f} errors.'.format(np.mean(errors)))\n",
    "    print('Accuracy = {:0.2f}%.'.format(accuracy))"
   ]
  },
  {
   "cell_type": "markdown",
   "metadata": {},
   "source": [
    "## Evaluate the model"
   ]
  },
  {
   "cell_type": "code",
   "execution_count": 217,
   "metadata": {
    "scrolled": false
   },
   "outputs": [
    {
     "name": "stdout",
     "output_type": "stream",
     "text": [
      "Model Performance\n",
      "Average Error: 60.4532 errors.\n",
      "Accuracy = 56.65%.\n"
     ]
    }
   ],
   "source": [
    "base_model = RandomForestRegressor(n_estimators = 1000, random_state = 42)\n",
    "base_model.fit(train_features, train_labels)\n",
    "evaluate(base_model, test_features, test_labels)"
   ]
  },
  {
   "cell_type": "code",
   "execution_count": 218,
   "metadata": {},
   "outputs": [
    {
     "name": "stdout",
     "output_type": "stream",
     "text": [
      "Model Performance\n",
      "Average Error: 54.6642 errors.\n",
      "Accuracy = 60.23%.\n"
     ]
    }
   ],
   "source": [
    "best_random = rf_random.best_estimator_\n",
    "evaluate(best_random, test_features, test_labels)"
   ]
  },
  {
   "cell_type": "code",
   "execution_count": 219,
   "metadata": {},
   "outputs": [
    {
     "data": {
      "text/plain": [
       "RandomForestRegressor(bootstrap=True, criterion='mse', max_depth=100,\n",
       "           max_features='sqrt', max_leaf_nodes=None,\n",
       "           min_impurity_decrease=0.0, min_impurity_split=None,\n",
       "           min_samples_leaf=4, min_samples_split=10,\n",
       "           min_weight_fraction_leaf=0.0, n_estimators=1155, n_jobs=1,\n",
       "           oob_score=False, random_state=42, verbose=0, warm_start=False)"
      ]
     },
     "execution_count": 219,
     "metadata": {},
     "output_type": "execute_result"
    }
   ],
   "source": [
    "best_random"
   ]
  },
  {
   "cell_type": "markdown",
   "metadata": {},
   "source": [
    "## Grid Search \n",
    "\n",
    "We can now perform grid search building on the result from the random search. We will test a range of hyperparameters around the best values returend by random search.\n"
   ]
  },
  {
   "cell_type": "code",
   "execution_count": 220,
   "metadata": {},
   "outputs": [],
   "source": [
    "from sklearn.model_selection import GridSearchCV\n",
    "\n",
    "# Create the parameter grid based on the results of random search \n",
    "param_grid = {\n",
    "    'bootstrap': [True],\n",
    "    'criterion': ['mse'],\n",
    "    'max_depth': [90, 100, 110, 120],\n",
    "    'max_features': ['sqrt'],\n",
    "    'min_samples_leaf': [3, 4, 5],\n",
    "    'min_samples_split': [5, 10, 15],\n",
    "    'n_estimators': [900, 1000, 1155, 1250]\n",
    "}\n",
    "\n",
    "# Create a based model\n",
    "rf = RandomForestRegressor()\n",
    "\n",
    "# Instantiate the grid search model\n",
    "grid_search = GridSearchCV(estimator = rf, param_grid = param_grid, \n",
    "                           scoring = 'neg_mean_absolute_error', cv = 3, \n",
    "                           n_jobs = -1, verbose = 2)"
   ]
  },
  {
   "cell_type": "code",
   "execution_count": 221,
   "metadata": {},
   "outputs": [
    {
     "name": "stdout",
     "output_type": "stream",
     "text": [
      "Fitting 3 folds for each of 144 candidates, totalling 432 fits\n"
     ]
    },
    {
     "name": "stderr",
     "output_type": "stream",
     "text": [
      "[Parallel(n_jobs=-1)]: Done  25 tasks      | elapsed:   12.7s\n",
      "[Parallel(n_jobs=-1)]: Done 146 tasks      | elapsed:   58.5s\n",
      "[Parallel(n_jobs=-1)]: Done 349 tasks      | elapsed:  2.2min\n",
      "[Parallel(n_jobs=-1)]: Done 432 out of 432 | elapsed:  2.7min finished\n"
     ]
    },
    {
     "data": {
      "text/plain": [
       "GridSearchCV(cv=3, error_score='raise',\n",
       "       estimator=RandomForestRegressor(bootstrap=True, criterion='mse', max_depth=None,\n",
       "           max_features='auto', max_leaf_nodes=None,\n",
       "           min_impurity_decrease=0.0, min_impurity_split=None,\n",
       "           min_samples_leaf=1, min_samples_split=2,\n",
       "           min_weight_fraction_leaf=0.0, n_estimators=10, n_jobs=1,\n",
       "           oob_score=False, random_state=None, verbose=0, warm_start=False),\n",
       "       fit_params=None, iid=True, n_jobs=-1,\n",
       "       param_grid={'bootstrap': [True], 'criterion': ['mse'], 'max_depth': [90, 100, 110, 120], 'max_features': ['sqrt'], 'min_samples_leaf': [3, 4, 5], 'min_samples_split': [5, 10, 15], 'n_estimators': [900, 1000, 1155, 1250]},\n",
       "       pre_dispatch='2*n_jobs', refit=True, return_train_score='warn',\n",
       "       scoring='neg_mean_absolute_error', verbose=2)"
      ]
     },
     "execution_count": 221,
     "metadata": {},
     "output_type": "execute_result"
    }
   ],
   "source": [
    "# Fit the grid search to the data\n",
    "grid_search.fit(train_features, train_labels)\n"
   ]
  },
  {
   "cell_type": "code",
   "execution_count": 222,
   "metadata": {},
   "outputs": [
    {
     "data": {
      "text/plain": [
       "{'bootstrap': True,\n",
       " 'criterion': 'mse',\n",
       " 'max_depth': 120,\n",
       " 'max_features': 'sqrt',\n",
       " 'min_samples_leaf': 5,\n",
       " 'min_samples_split': 15,\n",
       " 'n_estimators': 900}"
      ]
     },
     "execution_count": 222,
     "metadata": {},
     "output_type": "execute_result"
    }
   ],
   "source": [
    "grid_search.best_params_"
   ]
  },
  {
   "cell_type": "code",
   "execution_count": 223,
   "metadata": {},
   "outputs": [
    {
     "name": "stdout",
     "output_type": "stream",
     "text": [
      "Model Performance\n",
      "Average Error: 53.9798 errors.\n",
      "Accuracy = 60.39%.\n"
     ]
    }
   ],
   "source": [
    "best_grid = grid_search.best_estimator_\n",
    "evaluate(best_grid, test_features, test_labels)"
   ]
  },
  {
   "cell_type": "code",
   "execution_count": 227,
   "metadata": {},
   "outputs": [
    {
     "name": "stdout",
     "output_type": "stream",
     "text": [
      "Fitting 3 folds for each of 27 candidates, totalling 81 fits\n"
     ]
    },
    {
     "name": "stderr",
     "output_type": "stream",
     "text": [
      "[Parallel(n_jobs=-1)]: Done  25 tasks      | elapsed:   11.3s\n",
      "[Parallel(n_jobs=-1)]: Done  81 out of  81 | elapsed:   28.1s finished\n"
     ]
    },
    {
     "data": {
      "text/plain": [
       "GridSearchCV(cv=3, error_score='raise',\n",
       "       estimator=RandomForestRegressor(bootstrap=True, criterion='mse', max_depth=None,\n",
       "           max_features='auto', max_leaf_nodes=None,\n",
       "           min_impurity_decrease=0.0, min_impurity_split=None,\n",
       "           min_samples_leaf=1, min_samples_split=2,\n",
       "           min_weight_fraction_leaf=0.0, n_estimators=10, n_jobs=1,\n",
       "           oob_score=False, random_state=None, verbose=0, warm_start=False),\n",
       "       fit_params=None, iid=True, n_jobs=-1,\n",
       "       param_grid={'bootstrap': [True], 'max_depth': [120, 130, None], 'max_features': ['sqrt'], 'min_samples_leaf': [5, 6, 7], 'min_samples_split': [15], 'n_estimators': [850, 900, 950]},\n",
       "       pre_dispatch='2*n_jobs', refit=True, return_train_score='warn',\n",
       "       scoring='neg_mean_absolute_error', verbose=2)"
      ]
     },
     "execution_count": 227,
     "metadata": {},
     "output_type": "execute_result"
    }
   ],
   "source": [
    "param_grid = {\n",
    "    'bootstrap': [True],\n",
    "    'max_depth': [120, 130, None],\n",
    "    'max_features': ['sqrt'],\n",
    "    'min_samples_leaf': [5, 6, 7],\n",
    "    'min_samples_split': [15],\n",
    "    'n_estimators': [850, 900, 950]\n",
    "}\n",
    "\n",
    "\n",
    "# Create a based model\n",
    "rf = RandomForestRegressor()\n",
    "\n",
    "# Instantiate the grid search model\n",
    "grid_search_ad = GridSearchCV(estimator = rf, param_grid = param_grid, \n",
    "                           scoring = 'neg_mean_absolute_error', cv = 3, \n",
    "                           n_jobs = -1, verbose = 2)\n",
    "\n",
    "grid_search_ad.fit(train_features, train_labels)"
   ]
  },
  {
   "cell_type": "code",
   "execution_count": 228,
   "metadata": {},
   "outputs": [
    {
     "data": {
      "text/plain": [
       "{'bootstrap': True,\n",
       " 'criterion': 'mse',\n",
       " 'max_depth': 120,\n",
       " 'max_features': 'sqrt',\n",
       " 'min_samples_leaf': 5,\n",
       " 'min_samples_split': 15,\n",
       " 'n_estimators': 900}"
      ]
     },
     "execution_count": 228,
     "metadata": {},
     "output_type": "execute_result"
    }
   ],
   "source": [
    "grid_search.best_params_"
   ]
  },
  {
   "cell_type": "code",
   "execution_count": 229,
   "metadata": {},
   "outputs": [
    {
     "name": "stdout",
     "output_type": "stream",
     "text": [
      "Model Performance\n",
      "Average Error: 53.9798 errors.\n",
      "Accuracy = 60.39%.\n"
     ]
    }
   ],
   "source": [
    "best_grid = grid_search.best_estimator_\n",
    "evaluate(best_grid, test_features, test_labels)"
   ]
  },
  {
   "cell_type": "code",
   "execution_count": null,
   "metadata": {},
   "outputs": [],
   "source": []
  },
  {
   "cell_type": "code",
   "execution_count": null,
   "metadata": {},
   "outputs": [],
   "source": []
  },
  {
   "cell_type": "code",
   "execution_count": null,
   "metadata": {},
   "outputs": [],
   "source": []
  },
  {
   "cell_type": "code",
   "execution_count": null,
   "metadata": {},
   "outputs": [],
   "source": []
  },
  {
   "cell_type": "code",
   "execution_count": null,
   "metadata": {},
   "outputs": [],
   "source": []
  },
  {
   "cell_type": "code",
   "execution_count": null,
   "metadata": {},
   "outputs": [],
   "source": [
    "# Calculate the mean_squared_error and the r-squared value\n",
    "# for the testing data\n",
    "\n",
    "from sklearn.metrics import mean_squared_error, r2_score\n",
    "\n",
    "### BEGIN SOLUTION\n",
    "\n",
    "# Use our model to make predictions\n",
    "predicted = model.predict(X_test)\n",
    "\n",
    "# Score the predictions with mse and r2\n",
    "mse = mean_squared_error(y_test, predicted)\n",
    "r2 = r2_score(y_test, predicted)\n",
    "\n",
    "print(f\"Mean Squared Error (MSE): {mse}\")\n",
    "print(f\"R-squared (R2 ): {r2}\")\n",
    "\n",
    "### END SOLUTION"
   ]
  },
  {
   "cell_type": "code",
   "execution_count": null,
   "metadata": {},
   "outputs": [],
   "source": [
    "# Call the `score` method on the model to show the r2 score\n",
    "\n",
    "### BEGIN SOLUTION\n",
    "model.score(X_test, y_test)\n",
    "### END SOLUTION"
   ]
  },
  {
   "cell_type": "code",
   "execution_count": null,
   "metadata": {
    "nbgrader": {
     "grade": false,
     "grade_id": "cell-546fc1044e2e1c77",
     "locked": false,
     "schema_version": 1,
     "solution": true
    }
   },
   "outputs": [],
   "source": [
    "# Print the coefficient and the intercept for the model\n",
    "\n",
    "### BEGIN SOLUTION\n",
    "print('Weight coefficients: ', model.coef_)\n",
    "print('y-axis intercept: ', model.intercept_)\n",
    "### END SOLUTION"
   ]
  },
  {
   "cell_type": "code",
   "execution_count": null,
   "metadata": {},
   "outputs": [],
   "source": [
    "# Note: we have to transform our min and max values \n",
    "# so they are in the format: array([[ 1.17]])\n",
    "# This is the required format for `model.predict()`\n",
    "\n",
    "x_min = np.array([[X.min()]])\n",
    "x_max = np.array([[X.max()]])\n",
    "print(f\"Min X Value: {x_min}\")\n",
    "print(f\"Max X Value: {x_max}\")"
   ]
  },
  {
   "cell_type": "code",
   "execution_count": null,
   "metadata": {
    "nbgrader": {
     "grade": false,
     "grade_id": "cell-5314a52e13fd4e63",
     "locked": false,
     "schema_version": 1,
     "solution": true
    }
   },
   "outputs": [],
   "source": [
    "# Calculate the y_min and y_max using model.predict and x_min and x_max\n",
    "\n",
    "### BEGIN SOLUTION\n",
    "y_min = model.predict(x_min)\n",
    "y_max = model.predict(x_max)\n",
    "### END SOLUTION"
   ]
  },
  {
   "cell_type": "code",
   "execution_count": null,
   "metadata": {
    "nbgrader": {
     "grade": false,
     "grade_id": "cell-63f9d27c8f668bfa",
     "locked": false,
     "schema_version": 1,
     "solution": true
    }
   },
   "outputs": [],
   "source": [
    "# Plot X and y using plt.scatter\n",
    "# Plot the model fit line using [x_min[0], x_max[0]], [y_min[0], y_max[0]]\n",
    "\n",
    "### BEGIN SOLUTION\n",
    "plt.scatter(X, y, c='blue')\n",
    "plt.plot([x_min[0], x_max[0]], [y_min[0], y_max[0]], c='red')\n",
    "### END SOLUTION"
   ]
  },
  {
   "cell_type": "code",
   "execution_count": null,
   "metadata": {},
   "outputs": [],
   "source": []
  },
  {
   "cell_type": "code",
   "execution_count": null,
   "metadata": {},
   "outputs": [],
   "source": []
  }
 ],
 "metadata": {
  "celltoolbar": "Create Assignment",
  "kernelspec": {
   "display_name": "PythonData",
   "language": "python",
   "name": "pythondata"
  },
  "language_info": {
   "codemirror_mode": {
    "name": "ipython",
    "version": 3
   },
   "file_extension": ".py",
   "mimetype": "text/x-python",
   "name": "python",
   "nbconvert_exporter": "python",
   "pygments_lexer": "ipython3",
   "version": "3.6.6"
  },
  "varInspector": {
   "cols": {
    "lenName": 16,
    "lenType": 16,
    "lenVar": 40
   },
   "kernels_config": {
    "python": {
     "delete_cmd_postfix": "",
     "delete_cmd_prefix": "del ",
     "library": "var_list.py",
     "varRefreshCmd": "print(var_dic_list())"
    },
    "r": {
     "delete_cmd_postfix": ") ",
     "delete_cmd_prefix": "rm(",
     "library": "var_list.r",
     "varRefreshCmd": "cat(var_dic_list()) "
    }
   },
   "types_to_exclude": [
    "module",
    "function",
    "builtin_function_or_method",
    "instance",
    "_Feature"
   ],
   "window_display": false
  }
 },
 "nbformat": 4,
 "nbformat_minor": 2
}
