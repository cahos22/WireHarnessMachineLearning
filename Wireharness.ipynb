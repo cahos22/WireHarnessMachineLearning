{
 "cells": [
  {
   "cell_type": "code",
   "execution_count": 16,
   "metadata": {},
   "outputs": [],
   "source": [
    "%matplotlib inline\n",
    "import matplotlib.pyplot as plt\n",
    "import numpy as np\n",
    "import pandas as pd\n",
    "import os"
   ]
  },
  {
   "cell_type": "markdown",
   "metadata": {},
   "source": [
    "## Dataset:  final_concentrated.csv\n",
    "\n",
    "Source: WireHarness Machine Data\n",
    "Test Scores with Number of errors per hour on different machines\n",
    "\n",
    "\n",
    "Variables/Columns\n",
    "Date: Day of work\n",
    "Time: Number of hours and minutes the machine was working\n",
    "Minutes: Number of minutes worked\n",
    "Hours: Decimal value described the time worked by the machine in hours\n",
    "Total_error: Total Number of error occurrances\n",
    "Machine: Name of the machine"
   ]
  },
  {
   "cell_type": "code",
   "execution_count": 17,
   "metadata": {},
   "outputs": [
    {
     "data": {
      "text/html": [
       "<div>\n",
       "<style scoped>\n",
       "    .dataframe tbody tr th:only-of-type {\n",
       "        vertical-align: middle;\n",
       "    }\n",
       "\n",
       "    .dataframe tbody tr th {\n",
       "        vertical-align: top;\n",
       "    }\n",
       "\n",
       "    .dataframe thead th {\n",
       "        text-align: right;\n",
       "    }\n",
       "</style>\n",
       "<table border=\"1\" class=\"dataframe\">\n",
       "  <thead>\n",
       "    <tr style=\"text-align: right;\">\n",
       "      <th></th>\n",
       "      <th>Date</th>\n",
       "      <th>Time</th>\n",
       "      <th>Minutes</th>\n",
       "      <th>Hours</th>\n",
       "      <th>Total_error</th>\n",
       "      <th>Machine</th>\n",
       "    </tr>\n",
       "  </thead>\n",
       "  <tbody>\n",
       "    <tr>\n",
       "      <th>0</th>\n",
       "      <td>1/3/2018</td>\n",
       "      <td>4:40:00</td>\n",
       "      <td>280.0</td>\n",
       "      <td>4.67</td>\n",
       "      <td>270</td>\n",
       "      <td>Forty-six</td>\n",
       "    </tr>\n",
       "    <tr>\n",
       "      <th>1</th>\n",
       "      <td>2/3/2018</td>\n",
       "      <td>4:42:00</td>\n",
       "      <td>282.0</td>\n",
       "      <td>4.70</td>\n",
       "      <td>187</td>\n",
       "      <td>Forty-six</td>\n",
       "    </tr>\n",
       "    <tr>\n",
       "      <th>2</th>\n",
       "      <td>3/3/2018</td>\n",
       "      <td>6:10:00</td>\n",
       "      <td>370.0</td>\n",
       "      <td>6.17</td>\n",
       "      <td>182</td>\n",
       "      <td>Forty-six</td>\n",
       "    </tr>\n",
       "    <tr>\n",
       "      <th>3</th>\n",
       "      <td>4/3/2018</td>\n",
       "      <td>0:02:00</td>\n",
       "      <td>2.0</td>\n",
       "      <td>0.03</td>\n",
       "      <td>8</td>\n",
       "      <td>Forty-six</td>\n",
       "    </tr>\n",
       "    <tr>\n",
       "      <th>4</th>\n",
       "      <td>5/3/2018</td>\n",
       "      <td>4:45:00</td>\n",
       "      <td>285.0</td>\n",
       "      <td>4.75</td>\n",
       "      <td>237</td>\n",
       "      <td>Forty-six</td>\n",
       "    </tr>\n",
       "  </tbody>\n",
       "</table>\n",
       "</div>"
      ],
      "text/plain": [
       "       Date     Time  Minutes  Hours  Total_error    Machine\n",
       "0  1/3/2018  4:40:00    280.0   4.67          270  Forty-six\n",
       "1  2/3/2018  4:42:00    282.0   4.70          187  Forty-six\n",
       "2  3/3/2018  6:10:00    370.0   6.17          182  Forty-six\n",
       "3  4/3/2018  0:02:00      2.0   0.03            8  Forty-six\n",
       "4  5/3/2018  4:45:00    285.0   4.75          237  Forty-six"
      ]
     },
     "execution_count": 17,
     "metadata": {},
     "output_type": "execute_result"
    }
   ],
   "source": [
    "# Read the csv file into a pandas DataFrame\n",
    "file_path = os.path.join('Resources','final_concentrated.csv')\n",
    "machine_errors = pd.read_csv(file_path)\n",
    "machine_errors.head()"
   ]
  },
  {
   "cell_type": "code",
   "execution_count": 18,
   "metadata": {},
   "outputs": [
    {
     "name": "stdout",
     "output_type": "stream",
     "text": [
      "Shape:  (293, 1) (293, 1)\n"
     ]
    },
    {
     "data": {
      "text/plain": [
       "array([[270],\n",
       "       [187],\n",
       "       [182],\n",
       "       [  8],\n",
       "       [237],\n",
       "       [111],\n",
       "       [127],\n",
       "       [166],\n",
       "       [185],\n",
       "       [153],\n",
       "       [ 90],\n",
       "       [205],\n",
       "       [139],\n",
       "       [224],\n",
       "       [224],\n",
       "       [177],\n",
       "       [ 40],\n",
       "       [250],\n",
       "       [261],\n",
       "       [219],\n",
       "       [277],\n",
       "       [184],\n",
       "       [175],\n",
       "       [200],\n",
       "       [267],\n",
       "       [221],\n",
       "       [207],\n",
       "       [ 95],\n",
       "       [193],\n",
       "       [173],\n",
       "       [824],\n",
       "       [ 35],\n",
       "       [153],\n",
       "       [128],\n",
       "       [140],\n",
       "       [121],\n",
       "       [122],\n",
       "       [192],\n",
       "       [162],\n",
       "       [158],\n",
       "       [224],\n",
       "       [179],\n",
       "       [246],\n",
       "       [187],\n",
       "       [155],\n",
       "       [180],\n",
       "       [153],\n",
       "       [122],\n",
       "       [237],\n",
       "       [836],\n",
       "       [237],\n",
       "       [237],\n",
       "       [391],\n",
       "       [296],\n",
       "       [313],\n",
       "       [365],\n",
       "       [306],\n",
       "       [ 40],\n",
       "       [147],\n",
       "       [152],\n",
       "       [130],\n",
       "       [195],\n",
       "       [195],\n",
       "       [ 89],\n",
       "       [196],\n",
       "       [152],\n",
       "       [489],\n",
       "       [243],\n",
       "       [258],\n",
       "       [417],\n",
       "       [313],\n",
       "       [240],\n",
       "       [119],\n",
       "       [281],\n",
       "       [272],\n",
       "       [205],\n",
       "       [266],\n",
       "       [110],\n",
       "       [220],\n",
       "       [256],\n",
       "       [836],\n",
       "       [237],\n",
       "       [237],\n",
       "       [391],\n",
       "       [296],\n",
       "       [313],\n",
       "       [365],\n",
       "       [306],\n",
       "       [ 40],\n",
       "       [147],\n",
       "       [126],\n",
       "       [143],\n",
       "       [137],\n",
       "       [127],\n",
       "       [ 89],\n",
       "       [117],\n",
       "       [ 73],\n",
       "       [ 62],\n",
       "       [ 50],\n",
       "       [ 81],\n",
       "       [ 55],\n",
       "       [ 89],\n",
       "       [ 37],\n",
       "       [ 82],\n",
       "       [111],\n",
       "       [154],\n",
       "       [134],\n",
       "       [197],\n",
       "       [112],\n",
       "       [177],\n",
       "       [145],\n",
       "       [147],\n",
       "       [155],\n",
       "       [145],\n",
       "       [ 89],\n",
       "       [159],\n",
       "       [130],\n",
       "       [141],\n",
       "       [ 86],\n",
       "       [144],\n",
       "       [ 56],\n",
       "       [124],\n",
       "       [ 64],\n",
       "       [102],\n",
       "       [160],\n",
       "       [154],\n",
       "       [187],\n",
       "       [ 95],\n",
       "       [103],\n",
       "       [143],\n",
       "       [ 48],\n",
       "       [ 36],\n",
       "       [139],\n",
       "       [ 65],\n",
       "       [ 54],\n",
       "       [124],\n",
       "       [120],\n",
       "       [ 74],\n",
       "       [212],\n",
       "       [118],\n",
       "       [169],\n",
       "       [ 69],\n",
       "       [101],\n",
       "       [102],\n",
       "       [124],\n",
       "       [266],\n",
       "       [153],\n",
       "       [121],\n",
       "       [140],\n",
       "       [ 32],\n",
       "       [132],\n",
       "       [198],\n",
       "       [161],\n",
       "       [300],\n",
       "       [302],\n",
       "       [  0],\n",
       "       [286],\n",
       "       [123],\n",
       "       [128],\n",
       "       [ 71],\n",
       "       [245],\n",
       "       [217],\n",
       "       [114],\n",
       "       [198],\n",
       "       [172],\n",
       "       [287],\n",
       "       [233],\n",
       "       [105],\n",
       "       [212],\n",
       "       [210],\n",
       "       [158],\n",
       "       [133],\n",
       "       [ 83],\n",
       "       [196],\n",
       "       [112],\n",
       "       [202],\n",
       "       [223],\n",
       "       [243],\n",
       "       [154],\n",
       "       [155],\n",
       "       [222],\n",
       "       [244],\n",
       "       [184],\n",
       "       [157],\n",
       "       [131],\n",
       "       [133],\n",
       "       [ 93],\n",
       "       [ 92],\n",
       "       [ 67],\n",
       "       [141],\n",
       "       [ 83],\n",
       "       [105],\n",
       "       [141],\n",
       "       [114],\n",
       "       [197],\n",
       "       [142],\n",
       "       [110],\n",
       "       [212],\n",
       "       [194],\n",
       "       [103],\n",
       "       [196],\n",
       "       [165],\n",
       "       [101],\n",
       "       [121],\n",
       "       [207],\n",
       "       [214],\n",
       "       [135],\n",
       "       [153],\n",
       "       [244],\n",
       "       [322],\n",
       "       [227],\n",
       "       [239],\n",
       "       [263],\n",
       "       [313],\n",
       "       [275],\n",
       "       [124],\n",
       "       [105],\n",
       "       [ 89],\n",
       "       [183],\n",
       "       [155],\n",
       "       [134],\n",
       "       [461],\n",
       "       [303],\n",
       "       [236],\n",
       "       [252],\n",
       "       [295],\n",
       "       [268],\n",
       "       [240],\n",
       "       [216],\n",
       "       [212],\n",
       "       [225],\n",
       "       [236],\n",
       "       [133],\n",
       "       [334],\n",
       "       [201],\n",
       "       [247],\n",
       "       [179],\n",
       "       [ 93],\n",
       "       [ 73],\n",
       "       [115],\n",
       "       [106],\n",
       "       [163],\n",
       "       [ 89],\n",
       "       [118],\n",
       "       [ 63],\n",
       "       [137],\n",
       "       [ 64],\n",
       "       [ 92],\n",
       "       [ 85],\n",
       "       [ 80],\n",
       "       [162],\n",
       "       [ 86],\n",
       "       [117],\n",
       "       [100],\n",
       "       [113],\n",
       "       [191],\n",
       "       [ 84],\n",
       "       [191],\n",
       "       [103],\n",
       "       [137],\n",
       "       [147],\n",
       "       [ 97],\n",
       "       [134],\n",
       "       [127],\n",
       "       [ 95],\n",
       "       [117],\n",
       "       [159],\n",
       "       [ 71],\n",
       "       [ 97],\n",
       "       [119],\n",
       "       [ 64],\n",
       "       [218],\n",
       "       [123],\n",
       "       [302],\n",
       "       [132],\n",
       "       [ 14],\n",
       "       [  0],\n",
       "       [ 28],\n",
       "       [231],\n",
       "       [ 67],\n",
       "       [ 26],\n",
       "       [ 47],\n",
       "       [ 90],\n",
       "       [ 62],\n",
       "       [ 54],\n",
       "       [  0],\n",
       "       [134],\n",
       "       [ 27],\n",
       "       [ 41],\n",
       "       [177],\n",
       "       [138],\n",
       "       [ 85],\n",
       "       [139]], dtype=int64)"
      ]
     },
     "execution_count": 18,
     "metadata": {},
     "output_type": "execute_result"
    }
   ],
   "source": [
    "# Assign the data to X and y\n",
    "# Note: Sklearn requires a 7 x 1 array of values\n",
    "# so we use reshape to create this\n",
    "\n",
    "X = machine_errors[\"Hours\"].values.reshape(-1, 1)\n",
    "y = machine_errors[\"Total_error\"].values.reshape(-1, 1)\n",
    "\n",
    "print(\"Shape: \", X.shape, y.shape)\n",
    "X\n",
    "y"
   ]
  },
  {
   "cell_type": "code",
   "execution_count": 19,
   "metadata": {
    "nbgrader": {
     "grade": false,
     "grade_id": "cell-9042a62fdddc21ba",
     "locked": false,
     "schema_version": 1,
     "solution": true
    }
   },
   "outputs": [
    {
     "data": {
      "text/plain": [
       "<matplotlib.collections.PathCollection at 0x1d2c362d400>"
      ]
     },
     "execution_count": 19,
     "metadata": {},
     "output_type": "execute_result"
    },
    {
     "data": {
      "image/png": "[encoded data removed]",
      "text/plain": [
       "<Figure size 432x288 with 1 Axes>"
      ]
     },
     "metadata": {},
     "output_type": "display_data"
    }
   ],
   "source": [
    "# Plot the data\n",
    "\n",
    "### BEGIN SOLUTION\n",
    "\n",
    "plt.scatter(X, y)\n",
    "\n",
    "### END SOLUTION"
   ]
  },
  {
   "cell_type": "code",
   "execution_count": 21,
   "metadata": {},
   "outputs": [],
   "source": [
    "# Use train_test_split to create training and testing data\n",
    "\n",
    "### BEGIN SOLUTION\n",
    "from sklearn.model_selection import train_test_split\n",
    "\n",
    "X_train, X_test, y_train, y_test = train_test_split(X, y, random_state=42)\n",
    "\n",
    "### END SOLUTION"
   ]
  },
  {
   "cell_type": "code",
   "execution_count": 22,
   "metadata": {
    "nbgrader": {
     "grade": false,
     "grade_id": "cell-c28431477001b4ca",
     "locked": false,
     "schema_version": 1,
     "solution": true
    }
   },
   "outputs": [],
   "source": [
    "# Create the model and fit the model to the data\n",
    "\n",
    "from sklearn.linear_model import LinearRegression\n",
    "\n",
    "### BEGIN SOLUTION\n",
    "\n",
    "model = LinearRegression()\n",
    "\n",
    "### END SOLUTION"
   ]
  },
  {
   "cell_type": "code",
   "execution_count": 23,
   "metadata": {
    "nbgrader": {
     "grade": false,
     "grade_id": "cell-cf45418a342b12fd",
     "locked": false,
     "schema_version": 1,
     "solution": true
    }
   },
   "outputs": [
    {
     "data": {
      "text/plain": [
       "LinearRegression(copy_X=True, fit_intercept=True, n_jobs=1, normalize=False)"
      ]
     },
     "execution_count": 23,
     "metadata": {},
     "output_type": "execute_result"
    }
   ],
   "source": [
    "# Fit the model to the data. \n",
    "# Note: This is the training step where you fit the line to the data.\n",
    "\n",
    "### BEGIN SOLUTION\n",
    "\n",
    "model.fit(X_train, y_train)\n",
    "\n",
    "### END SOLUTION"
   ]
  },
  {
   "cell_type": "code",
   "execution_count": 25,
   "metadata": {},
   "outputs": [
    {
     "name": "stdout",
     "output_type": "stream",
     "text": [
      "Mean Squared Error (MSE): 13213.0045296992\n",
      "R-squared (R2 ): 0.032021416766747746\n"
     ]
    }
   ],
   "source": [
    "# Calculate the mean_squared_error and the r-squared value\n",
    "# for the testing data\n",
    "\n",
    "from sklearn.metrics import mean_squared_error, r2_score\n",
    "\n",
    "### BEGIN SOLUTION\n",
    "\n",
    "# Use our model to make predictions\n",
    "predicted = model.predict(X_test)\n",
    "\n",
    "# Score the predictions with mse and r2\n",
    "mse = mean_squared_error(y_test, predicted)\n",
    "r2 = r2_score(y_test, predicted)\n",
    "\n",
    "print(f\"Mean Squared Error (MSE): {mse}\")\n",
    "print(f\"R-squared (R2 ): {r2}\")\n",
    "\n",
    "### END SOLUTION"
   ]
  },
  {
   "cell_type": "code",
   "execution_count": 26,
   "metadata": {},
   "outputs": [
    {
     "data": {
      "text/plain": [
       "0.032021416766747746"
      ]
     },
     "execution_count": 26,
     "metadata": {},
     "output_type": "execute_result"
    }
   ],
   "source": [
    "# Call the `score` method on the model to show the r2 score\n",
    "\n",
    "### BEGIN SOLUTION\n",
    "model.score(X_test, y_test)\n",
    "### END SOLUTION"
   ]
  },
  {
   "cell_type": "code",
   "execution_count": 27,
   "metadata": {
    "nbgrader": {
     "grade": false,
     "grade_id": "cell-546fc1044e2e1c77",
     "locked": false,
     "schema_version": 1,
     "solution": true
    }
   },
   "outputs": [
    {
     "name": "stdout",
     "output_type": "stream",
     "text": [
      "Weight coefficients:  [[3.35807652]]\n",
      "y-axis intercept:  [137.04544237]\n"
     ]
    }
   ],
   "source": [
    "# Print the coefficient and the intercept for the model\n",
    "\n",
    "### BEGIN SOLUTION\n",
    "print('Weight coefficients: ', model.coef_)\n",
    "print('y-axis intercept: ', model.intercept_)\n",
    "### END SOLUTION"
   ]
  },
  {
   "cell_type": "code",
   "execution_count": 28,
   "metadata": {},
   "outputs": [
    {
     "name": "stdout",
     "output_type": "stream",
     "text": [
      "Min X Value: [[0.03]]\n",
      "Max X Value: [[24.]]\n"
     ]
    }
   ],
   "source": [
    "# Note: we have to transform our min and max values \n",
    "# so they are in the format: array([[ 1.17]])\n",
    "# This is the required format for `model.predict()`\n",
    "\n",
    "x_min = np.array([[X.min()]])\n",
    "x_max = np.array([[X.max()]])\n",
    "print(f\"Min X Value: {x_min}\")\n",
    "print(f\"Max X Value: {x_max}\")"
   ]
  },
  {
   "cell_type": "code",
   "execution_count": 30,
   "metadata": {
    "nbgrader": {
     "grade": false,
     "grade_id": "cell-5314a52e13fd4e63",
     "locked": false,
     "schema_version": 1,
     "solution": true
    }
   },
   "outputs": [],
   "source": [
    "# Calculate the y_min and y_max using model.predict and x_min and x_max\n",
    "\n",
    "### BEGIN SOLUTION\n",
    "y_min = model.predict(x_min)\n",
    "y_max = model.predict(x_max)\n",
    "### END SOLUTION"
   ]
  },
  {
   "cell_type": "code",
   "execution_count": 31,
   "metadata": {
    "nbgrader": {
     "grade": false,
     "grade_id": "cell-63f9d27c8f668bfa",
     "locked": false,
     "schema_version": 1,
     "solution": true
    }
   },
   "outputs": [
    {
     "data": {
      "text/plain": [
       "[<matplotlib.lines.Line2D at 0x1d2c5101b38>]"
      ]
     },
     "execution_count": 31,
     "metadata": {},
     "output_type": "execute_result"
    },
    {
     "data": {
      "image/png": "[encoded data removed]",
      "text/plain": [
       "<Figure size 432x288 with 1 Axes>"
      ]
     },
     "metadata": {},
     "output_type": "display_data"
    }
   ],
   "source": [
    "# Plot X and y using plt.scatter\n",
    "# Plot the model fit line using [x_min[0], x_max[0]], [y_min[0], y_max[0]]\n",
    "\n",
    "### BEGIN SOLUTION\n",
    "plt.scatter(X, y, c='blue')\n",
    "plt.plot([x_min[0], x_max[0]], [y_min[0], y_max[0]], c='red')\n",
    "### END SOLUTION"
   ]
  },
  {
   "cell_type": "code",
   "execution_count": null,
   "metadata": {},
   "outputs": [],
   "source": []
  },
  {
   "cell_type": "code",
   "execution_count": null,
   "metadata": {},
   "outputs": [],
   "source": []
  }
 ],
 "metadata": {
  "celltoolbar": "Create Assignment",
  "kernelspec": {
   "display_name": "Python 3",
   "language": "python",
   "name": "python3"
  },
  "language_info": {
   "codemirror_mode": {
    "name": "ipython",
    "version": 3
   },
   "file_extension": ".py",
   "mimetype": "text/x-python",
   "name": "python",
   "nbconvert_exporter": "python",
   "pygments_lexer": "ipython3",
   "version": "3.6.6"
  },
  "varInspector": {
   "cols": {
    "lenName": 16,
    "lenType": 16,
    "lenVar": 40
   },
   "kernels_config": {
    "python": {
     "delete_cmd_postfix": "",
     "delete_cmd_prefix": "del ",
     "library": "var_list.py",
     "varRefreshCmd": "print(var_dic_list())"
    },
    "r": {
     "delete_cmd_postfix": ") ",
     "delete_cmd_prefix": "rm(",
     "library": "var_list.r",
     "varRefreshCmd": "cat(var_dic_list()) "
    }
   },
   "types_to_exclude": [
    "module",
    "function",
    "builtin_function_or_method",
    "instance",
    "_Feature"
   ],
   "window_display": false
  }
 },
 "nbformat": 4,
 "nbformat_minor": 2
}
